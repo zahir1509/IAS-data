{
 "cells": [
  {
   "cell_type": "code",
   "execution_count": 1,
   "metadata": {},
   "outputs": [],
   "source": [
    "# import scraping libraries\n",
    "\n",
    "import requests\n",
    "from bs4 import BeautifulSoup\n",
    "import pandas as pd\n",
    "from selenium import webdriver\n",
    "from selenium.webdriver.support.ui import Select\n",
    "import time\n",
    "import pandas as pd \n",
    "from openpyxl import workbook"
   ]
  },
  {
   "cell_type": "code",
   "execution_count": null,
   "metadata": {},
   "outputs": [],
   "source": [
    "allot_year = '2014'"
   ]
  },
  {
   "cell_type": "code",
   "execution_count": 33,
   "metadata": {},
   "outputs": [
    {
     "name": "stderr",
     "output_type": "stream",
     "text": [
      "C:\\Users\\Zahir\\AppData\\Local\\Temp\\ipykernel_10992\\1439902167.py:1: DeprecationWarning: executable_path has been deprecated, please pass in a Service object\n",
      "  driver = webdriver.Chrome(\"C:\\chromedriver.exe\")\n",
      "C:\\Users\\Zahir\\AppData\\Local\\Temp\\ipykernel_10992\\1439902167.py:5: DeprecationWarning: find_element_by_xpath is deprecated. Please use find_element(by=By.XPATH, value=xpath) instead\n",
      "  allotment_year = driver.find_element_by_xpath('//*[@id=\"txtAllotYr\"]')\n",
      "C:\\Users\\Zahir\\AppData\\Local\\Temp\\ipykernel_10992\\1439902167.py:7: DeprecationWarning: find_element_by_xpath is deprecated. Please use find_element(by=By.XPATH, value=xpath) instead\n",
      "  submit_button = driver.find_element_by_xpath('//*[@id=\"btnSubmit\"]')\n"
     ]
    }
   ],
   "source": [
    "driver = webdriver.Chrome(\"C:\\chromedriver.exe\")\n",
    "url = 'https://supremo.nic.in/knowyourofficerIAS.aspx'\n",
    "driver.get(url)\n",
    "\n",
    "allotment_year = driver.find_element_by_xpath('//*[@id=\"txtAllotYr\"]')\n",
    "allotment_year.send_keys(allot_year)\n",
    "submit_button = driver.find_element_by_xpath('//*[@id=\"btnSubmit\"]')\n",
    "submit_button.click()\n"
   ]
  },
  {
   "cell_type": "code",
   "execution_count": 34,
   "metadata": {},
   "outputs": [
    {
     "name": "stderr",
     "output_type": "stream",
     "text": [
      "C:\\Users\\Zahir\\AppData\\Local\\Temp\\ipykernel_10992\\3300549556.py:4: DeprecationWarning: find_element_by_xpath is deprecated. Please use find_element(by=By.XPATH, value=xpath) instead\n",
      "  table = driver.find_element_by_xpath('//*[@id=\"rptListOfficer\"]')\n",
      "C:\\Users\\Zahir\\AppData\\Local\\Temp\\ipykernel_10992\\3300549556.py:6: DeprecationWarning: find_elements_by_xpath is deprecated. Please use find_elements(by=By.XPATH, value=xpath) instead\n",
      "  PageData = table.find_elements_by_xpath(\".//tr\")\n",
      "C:\\Users\\Zahir\\AppData\\Local\\Temp\\ipykernel_10992\\3300549556.py:11: DeprecationWarning: find_elements_by_xpath is deprecated. Please use find_elements(by=By.XPATH, value=xpath) instead\n",
      "  Data = PageData[i].find_elements_by_xpath(\".//td\")\n",
      "C:\\Users\\Zahir\\AppData\\Local\\Temp\\ipykernel_10992\\3300549556.py:17: DeprecationWarning: find_element_by_* commands are deprecated. Please use find_element() instead\n",
      "  link = driver.find_element_by_id(f'rptListOfficer_lniofficerid_{i-1}')\n"
     ]
    },
    {
     "name": "stdout",
     "output_type": "stream",
     "text": [
      "Number of rows : 286\n",
      "['Ms. Swetika Sachan', 'IAS', 'A G M U T', '2014', '22/05/1987', '']\n"
     ]
    },
    {
     "name": "stderr",
     "output_type": "stream",
     "text": [
      "C:\\Users\\Zahir\\AppData\\Local\\Temp\\ipykernel_10992\\3300549556.py:24: DeprecationWarning: find_element_by_xpath is deprecated. Please use find_element(by=By.XPATH, value=xpath) instead\n",
      "  table_1 = driver.find_element_by_xpath('//*[@id=\"one-column-emphasis\"]')\n",
      "C:\\Users\\Zahir\\AppData\\Local\\Temp\\ipykernel_10992\\3300549556.py:26: DeprecationWarning: find_elements_by_xpath is deprecated. Please use find_elements(by=By.XPATH, value=xpath) instead\n",
      "  table_1_data = table_1.find_elements_by_xpath(\".//tr\")\n",
      "C:\\Users\\Zahir\\AppData\\Local\\Temp\\ipykernel_10992\\3300549556.py:29: DeprecationWarning: find_elements_by_xpath is deprecated. Please use find_elements(by=By.XPATH, value=xpath) instead\n",
      "  table1rows = table_1_data[k].find_elements_by_xpath(\".//td/b\")\n"
     ]
    },
    {
     "name": "stdout",
     "output_type": "stream",
     "text": [
      "Indian Administrative Service / A G M U T / 2014\n",
      "Direct Recruitment\n",
      "22/05/1987\n",
      "Female\n",
      "Uttar Pradesh\n",
      "Hindi\n",
      "English\n",
      "Serving\n"
     ]
    },
    {
     "ename": "NoSuchWindowException",
     "evalue": "Message: no such window: target window already closed\nfrom unknown error: web view not found\n  (Session info: chrome=116.0.5845.141)\nStacktrace:\n\tGetHandleVerifier [0x00007FF6B0AC52A2+57122]\n\t(No symbol) [0x00007FF6B0A3EA92]\n\t(No symbol) [0x00007FF6B090E3AB]\n\t(No symbol) [0x00007FF6B08EE1B9]\n\t(No symbol) [0x00007FF6B096B417]\n\t(No symbol) [0x00007FF6B097E24F]\n\t(No symbol) [0x00007FF6B0966DB3]\n\t(No symbol) [0x00007FF6B093D2B1]\n\t(No symbol) [0x00007FF6B093E494]\n\tGetHandleVerifier [0x00007FF6B0D6EF82+2849794]\n\tGetHandleVerifier [0x00007FF6B0DC1D24+3189156]\n\tGetHandleVerifier [0x00007FF6B0DBACAF+3160367]\n\tGetHandleVerifier [0x00007FF6B0B56D06+653702]\n\t(No symbol) [0x00007FF6B0A4A208]\n\t(No symbol) [0x00007FF6B0A462C4]\n\t(No symbol) [0x00007FF6B0A463F6]\n\t(No symbol) [0x00007FF6B0A367A3]\n\tBaseThreadInitThunk [0x00007FFA4FE27614+20]\n\tRtlUserThreadStart [0x00007FFA509626B1+33]\n",
     "output_type": "error",
     "traceback": [
      "\u001b[1;31m---------------------------------------------------------------------------\u001b[0m",
      "\u001b[1;31mNoSuchWindowException\u001b[0m                     Traceback (most recent call last)",
      "\u001b[1;32mc:\\Users\\Zahir\\Desktop\\Github\\IAS-data\\scraper.ipynb Cell 4\u001b[0m in \u001b[0;36m<cell line: 10>\u001b[1;34m()\u001b[0m\n\u001b[0;32m      <a href='vscode-notebook-cell:/c%3A/Users/Zahir/Desktop/Github/IAS-data/scraper.ipynb#W6sZmlsZQ%3D%3D?line=7'>8</a>\u001b[0m \u001b[39mprint\u001b[39m(\u001b[39mf\u001b[39m\u001b[39m'\u001b[39m\u001b[39mNumber of rows : \u001b[39m\u001b[39m{\u001b[39;00m\u001b[39mlen\u001b[39m(PageData)\u001b[39m}\u001b[39;00m\u001b[39m'\u001b[39m)\n\u001b[0;32m     <a href='vscode-notebook-cell:/c%3A/Users/Zahir/Desktop/Github/IAS-data/scraper.ipynb#W6sZmlsZQ%3D%3D?line=9'>10</a>\u001b[0m \u001b[39mfor\u001b[39;00m i \u001b[39min\u001b[39;00m \u001b[39mrange\u001b[39m(\u001b[39m1\u001b[39m, \u001b[39mlen\u001b[39m(PageData)):               \n\u001b[1;32m---> <a href='vscode-notebook-cell:/c%3A/Users/Zahir/Desktop/Github/IAS-data/scraper.ipynb#W6sZmlsZQ%3D%3D?line=10'>11</a>\u001b[0m     Data \u001b[39m=\u001b[39m PageData[i]\u001b[39m.\u001b[39;49mfind_elements_by_xpath(\u001b[39m\"\u001b[39;49m\u001b[39m.//td\u001b[39;49m\u001b[39m\"\u001b[39;49m)\n\u001b[0;32m     <a href='vscode-notebook-cell:/c%3A/Users/Zahir/Desktop/Github/IAS-data/scraper.ipynb#W6sZmlsZQ%3D%3D?line=11'>12</a>\u001b[0m     aRow \u001b[39m=\u001b[39m []\n\u001b[0;32m     <a href='vscode-notebook-cell:/c%3A/Users/Zahir/Desktop/Github/IAS-data/scraper.ipynb#W6sZmlsZQ%3D%3D?line=12'>13</a>\u001b[0m     \u001b[39mfor\u001b[39;00m j \u001b[39min\u001b[39;00m \u001b[39mrange\u001b[39m(\u001b[39m0\u001b[39m, \u001b[39mlen\u001b[39m(Data)):\n",
      "File \u001b[1;32mc:\\Users\\Zahir\\AppData\\Local\\Programs\\Python\\Python38\\lib\\site-packages\\selenium\\webdriver\\remote\\webelement.py:476\u001b[0m, in \u001b[0;36mWebElement.find_elements_by_xpath\u001b[1;34m(self, xpath)\u001b[0m\n\u001b[0;32m    443\u001b[0m \u001b[39m\"\"\"Finds elements within the element by xpath.\u001b[39;00m\n\u001b[0;32m    444\u001b[0m \n\u001b[0;32m    445\u001b[0m \u001b[39m:Args:\u001b[39;00m\n\u001b[1;32m   (...)\u001b[0m\n\u001b[0;32m    470\u001b[0m \n\u001b[0;32m    471\u001b[0m \u001b[39m\"\"\"\u001b[39;00m\n\u001b[0;32m    472\u001b[0m warnings\u001b[39m.\u001b[39mwarn(\n\u001b[0;32m    473\u001b[0m     \u001b[39m\"\u001b[39m\u001b[39mfind_elements_by_xpath is deprecated. Please use find_elements(by=By.XPATH, value=xpath) instead\u001b[39m\u001b[39m\"\u001b[39m,\n\u001b[0;32m    474\u001b[0m     \u001b[39mDeprecationWarning\u001b[39;00m,\n\u001b[0;32m    475\u001b[0m     stacklevel\u001b[39m=\u001b[39m\u001b[39m2\u001b[39m)\n\u001b[1;32m--> 476\u001b[0m \u001b[39mreturn\u001b[39;00m \u001b[39mself\u001b[39;49m\u001b[39m.\u001b[39;49mfind_elements(by\u001b[39m=\u001b[39;49mBy\u001b[39m.\u001b[39;49mXPATH, value\u001b[39m=\u001b[39;49mxpath)\n",
      "File \u001b[1;32mc:\\Users\\Zahir\\AppData\\Local\\Programs\\Python\\Python38\\lib\\site-packages\\selenium\\webdriver\\remote\\webelement.py:820\u001b[0m, in \u001b[0;36mWebElement.find_elements\u001b[1;34m(self, by, value)\u001b[0m\n\u001b[0;32m    817\u001b[0m     by \u001b[39m=\u001b[39m By\u001b[39m.\u001b[39mCSS_SELECTOR\n\u001b[0;32m    818\u001b[0m     value \u001b[39m=\u001b[39m \u001b[39m'\u001b[39m\u001b[39m[name=\u001b[39m\u001b[39m\"\u001b[39m\u001b[39m%s\u001b[39;00m\u001b[39m\"\u001b[39m\u001b[39m]\u001b[39m\u001b[39m'\u001b[39m \u001b[39m%\u001b[39m value\n\u001b[1;32m--> 820\u001b[0m \u001b[39mreturn\u001b[39;00m \u001b[39mself\u001b[39;49m\u001b[39m.\u001b[39;49m_execute(Command\u001b[39m.\u001b[39;49mFIND_CHILD_ELEMENTS,\n\u001b[0;32m    821\u001b[0m                      {\u001b[39m\"\u001b[39;49m\u001b[39musing\u001b[39;49m\u001b[39m\"\u001b[39;49m: by, \u001b[39m\"\u001b[39;49m\u001b[39mvalue\u001b[39;49m\u001b[39m\"\u001b[39;49m: value})[\u001b[39m'\u001b[39m\u001b[39mvalue\u001b[39m\u001b[39m'\u001b[39m]\n",
      "File \u001b[1;32mc:\\Users\\Zahir\\AppData\\Local\\Programs\\Python\\Python38\\lib\\site-packages\\selenium\\webdriver\\remote\\webelement.py:773\u001b[0m, in \u001b[0;36mWebElement._execute\u001b[1;34m(self, command, params)\u001b[0m\n\u001b[0;32m    771\u001b[0m     params \u001b[39m=\u001b[39m {}\n\u001b[0;32m    772\u001b[0m params[\u001b[39m'\u001b[39m\u001b[39mid\u001b[39m\u001b[39m'\u001b[39m] \u001b[39m=\u001b[39m \u001b[39mself\u001b[39m\u001b[39m.\u001b[39m_id\n\u001b[1;32m--> 773\u001b[0m \u001b[39mreturn\u001b[39;00m \u001b[39mself\u001b[39;49m\u001b[39m.\u001b[39;49m_parent\u001b[39m.\u001b[39;49mexecute(command, params)\n",
      "File \u001b[1;32mc:\\Users\\Zahir\\AppData\\Local\\Programs\\Python\\Python38\\lib\\site-packages\\selenium\\webdriver\\remote\\webdriver.py:430\u001b[0m, in \u001b[0;36mWebDriver.execute\u001b[1;34m(self, driver_command, params)\u001b[0m\n\u001b[0;32m    428\u001b[0m response \u001b[39m=\u001b[39m \u001b[39mself\u001b[39m\u001b[39m.\u001b[39mcommand_executor\u001b[39m.\u001b[39mexecute(driver_command, params)\n\u001b[0;32m    429\u001b[0m \u001b[39mif\u001b[39;00m response:\n\u001b[1;32m--> 430\u001b[0m     \u001b[39mself\u001b[39;49m\u001b[39m.\u001b[39;49merror_handler\u001b[39m.\u001b[39;49mcheck_response(response)\n\u001b[0;32m    431\u001b[0m     response[\u001b[39m'\u001b[39m\u001b[39mvalue\u001b[39m\u001b[39m'\u001b[39m] \u001b[39m=\u001b[39m \u001b[39mself\u001b[39m\u001b[39m.\u001b[39m_unwrap_value(\n\u001b[0;32m    432\u001b[0m         response\u001b[39m.\u001b[39mget(\u001b[39m'\u001b[39m\u001b[39mvalue\u001b[39m\u001b[39m'\u001b[39m, \u001b[39mNone\u001b[39;00m))\n\u001b[0;32m    433\u001b[0m     \u001b[39mreturn\u001b[39;00m response\n",
      "File \u001b[1;32mc:\\Users\\Zahir\\AppData\\Local\\Programs\\Python\\Python38\\lib\\site-packages\\selenium\\webdriver\\remote\\errorhandler.py:247\u001b[0m, in \u001b[0;36mErrorHandler.check_response\u001b[1;34m(self, response)\u001b[0m\n\u001b[0;32m    245\u001b[0m         alert_text \u001b[39m=\u001b[39m value[\u001b[39m'\u001b[39m\u001b[39malert\u001b[39m\u001b[39m'\u001b[39m]\u001b[39m.\u001b[39mget(\u001b[39m'\u001b[39m\u001b[39mtext\u001b[39m\u001b[39m'\u001b[39m)\n\u001b[0;32m    246\u001b[0m     \u001b[39mraise\u001b[39;00m exception_class(message, screen, stacktrace, alert_text)  \u001b[39m# type: ignore[call-arg]  # mypy is not smart enough here\u001b[39;00m\n\u001b[1;32m--> 247\u001b[0m \u001b[39mraise\u001b[39;00m exception_class(message, screen, stacktrace)\n",
      "\u001b[1;31mNoSuchWindowException\u001b[0m: Message: no such window: target window already closed\nfrom unknown error: web view not found\n  (Session info: chrome=116.0.5845.141)\nStacktrace:\n\tGetHandleVerifier [0x00007FF6B0AC52A2+57122]\n\t(No symbol) [0x00007FF6B0A3EA92]\n\t(No symbol) [0x00007FF6B090E3AB]\n\t(No symbol) [0x00007FF6B08EE1B9]\n\t(No symbol) [0x00007FF6B096B417]\n\t(No symbol) [0x00007FF6B097E24F]\n\t(No symbol) [0x00007FF6B0966DB3]\n\t(No symbol) [0x00007FF6B093D2B1]\n\t(No symbol) [0x00007FF6B093E494]\n\tGetHandleVerifier [0x00007FF6B0D6EF82+2849794]\n\tGetHandleVerifier [0x00007FF6B0DC1D24+3189156]\n\tGetHandleVerifier [0x00007FF6B0DBACAF+3160367]\n\tGetHandleVerifier [0x00007FF6B0B56D06+653702]\n\t(No symbol) [0x00007FF6B0A4A208]\n\t(No symbol) [0x00007FF6B0A462C4]\n\t(No symbol) [0x00007FF6B0A463F6]\n\t(No symbol) [0x00007FF6B0A367A3]\n\tBaseThreadInitThunk [0x00007FFA4FE27614+20]\n\tRtlUserThreadStart [0x00007FFA509626B1+33]\n"
     ]
    }
   ],
   "source": [
    "mainlist = []\n",
    "\n",
    "# Get the main table with list of officers\n",
    "table = driver.find_element_by_xpath('//*[@id=\"rptListOfficer\"]')\n",
    "\n",
    "PageData = table.find_elements_by_xpath(\".//tr\")\n",
    "\n",
    "print(f'Number of rows : {len(PageData)}')\n",
    "\n",
    "for i in range(1, len(PageData)):               \n",
    "    Data = PageData[i].find_elements_by_xpath(\".//td\")\n",
    "    aRow = []\n",
    "    for j in range(0, len(Data)):\n",
    "        aRow.append(Data[j].text)\n",
    "    print(aRow)\n",
    "    # Click on the link in one of the cells\n",
    "    link = driver.find_element_by_id(f'rptListOfficer_lniofficerid_{i-1}')\n",
    "    link.click()\n",
    "    \n",
    "    # Switch to the new tab\n",
    "    driver.switch_to.window(driver.window_handles[1])\n",
    "\n",
    "    # Get the table with officer details\n",
    "    table_1 = driver.find_element_by_xpath('//*[@id=\"one-column-emphasis\"]')\n",
    "\n",
    "    table_1_data = table_1.find_elements_by_xpath(\".//tr\")\n",
    "\n",
    "    for k in range(2, len(table_1_data)):\n",
    "        table1rows = table_1_data[k].find_elements_by_xpath(\".//td/b\")\n",
    "        for l in range(0, len(table1rows)):\n",
    "            print(table1rows[l].text)\n",
    "            aRow.append(table1rows[l].text)\n",
    "\n",
    "\n",
    "\n",
    "    # Close current tab and switch back to main tab\n",
    "    driver.close()\n",
    "    driver.switch_to.window(driver.window_handles[0])\n",
    "\n",
    "\n",
    "#df = pd.DataFrame(mainlist)\n",
    "#df.to_excel('IAS_2014.xlsx', index=False)"
   ]
  },
  {
   "cell_type": "markdown",
   "metadata": {},
   "source": [
    "To get the main table"
   ]
  },
  {
   "cell_type": "code",
   "execution_count": 9,
   "metadata": {},
   "outputs": [
    {
     "name": "stderr",
     "output_type": "stream",
     "text": [
      "C:\\Users\\Zahir\\AppData\\Local\\Temp\\ipykernel_10992\\826270858.py:4: DeprecationWarning: find_element_by_xpath is deprecated. Please use find_element(by=By.XPATH, value=xpath) instead\n",
      "  table = driver.find_element_by_xpath('//*[@id=\"rptListOfficer\"]')\n",
      "C:\\Users\\Zahir\\AppData\\Local\\Temp\\ipykernel_10992\\826270858.py:6: DeprecationWarning: find_elements_by_tag_name is deprecated. Please use find_elements(by=By.TAG_NAME, value=name) instead\n",
      "  rows = table.find_elements_by_tag_name('tr')\n",
      "C:\\Users\\Zahir\\AppData\\Local\\Temp\\ipykernel_10992\\826270858.py:10: DeprecationWarning: find_elements_by_tag_name is deprecated. Please use find_elements(by=By.TAG_NAME, value=name) instead\n",
      "  cols = row.find_elements_by_tag_name('td')\n"
     ]
    }
   ],
   "source": [
    "mainlist = []\n",
    "\n",
    "# Get the main table with list of officers\n",
    "table = driver.find_element_by_xpath('//*[@id=\"rptListOfficer\"]')\n",
    "\n",
    "rows = table.find_elements_by_tag_name('tr')\n",
    "\n",
    "for row in rows:\n",
    "    rowlist = []\n",
    "    cols = row.find_elements_by_tag_name('td')\n",
    "    for col in cols:\n",
    "        rowlist.append(col.text)\n",
    "    mainlist.append(rowlist)\n",
    "\n",
    "df = pd.DataFrame(mainlist)\n",
    "df.to_excel('IAS_2014.xlsx', index=False)"
   ]
  }
 ],
 "metadata": {
  "kernelspec": {
   "display_name": "Python 3",
   "language": "python",
   "name": "python3"
  },
  "language_info": {
   "codemirror_mode": {
    "name": "ipython",
    "version": 3
   },
   "file_extension": ".py",
   "mimetype": "text/x-python",
   "name": "python",
   "nbconvert_exporter": "python",
   "pygments_lexer": "ipython3",
   "version": "3.8.4"
  },
  "orig_nbformat": 4
 },
 "nbformat": 4,
 "nbformat_minor": 2
}
